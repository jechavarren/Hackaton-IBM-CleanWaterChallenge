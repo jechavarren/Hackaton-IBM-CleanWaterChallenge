{
 "cells": [
  {
   "cell_type": "code",
   "execution_count": 1,
   "metadata": {},
   "outputs": [
    {
     "name": "stdout",
     "output_type": "stream",
     "text": [
      "Note: you may need to restart the kernel to use updated packages.\n"
     ]
    }
   ],
   "source": [
    "%pip install --upgrade --quiet  langchain-google-community"
   ]
  },
  {
   "cell_type": "code",
   "execution_count": 2,
   "metadata": {},
   "outputs": [
    {
     "name": "stdout",
     "output_type": "stream",
     "text": [
      "Requirement already satisfied: langchain in c:\\users\\drbullido\\appdata\\local\\anaconda3\\envs\\hackaton\\lib\\site-packages (0.1.13)\n",
      "Requirement already satisfied: langchainhub in c:\\users\\drbullido\\appdata\\local\\anaconda3\\envs\\hackaton\\lib\\site-packages (0.1.15)\n",
      "Requirement already satisfied: PyYAML>=5.3 in c:\\users\\drbullido\\appdata\\local\\anaconda3\\envs\\hackaton\\lib\\site-packages (from langchain) (6.0.2)\n",
      "Requirement already satisfied: SQLAlchemy<3,>=1.4 in c:\\users\\drbullido\\appdata\\local\\anaconda3\\envs\\hackaton\\lib\\site-packages (from langchain) (2.0.40)\n",
      "Requirement already satisfied: aiohttp<4.0.0,>=3.8.3 in c:\\users\\drbullido\\appdata\\local\\anaconda3\\envs\\hackaton\\lib\\site-packages (from langchain) (3.11.14)\n",
      "Requirement already satisfied: dataclasses-json<0.7,>=0.5.7 in c:\\users\\drbullido\\appdata\\local\\anaconda3\\envs\\hackaton\\lib\\site-packages (from langchain) (0.6.7)\n",
      "Requirement already satisfied: jsonpatch<2.0,>=1.33 in c:\\users\\drbullido\\appdata\\local\\anaconda3\\envs\\hackaton\\lib\\site-packages (from langchain) (1.33)\n",
      "Requirement already satisfied: langchain-community<0.1,>=0.0.29 in c:\\users\\drbullido\\appdata\\local\\anaconda3\\envs\\hackaton\\lib\\site-packages (from langchain) (0.0.38)\n",
      "Requirement already satisfied: langchain-core<0.2.0,>=0.1.33 in c:\\users\\drbullido\\appdata\\local\\anaconda3\\envs\\hackaton\\lib\\site-packages (from langchain) (0.1.53)\n",
      "Requirement already satisfied: langchain-text-splitters<0.1,>=0.0.1 in c:\\users\\drbullido\\appdata\\local\\anaconda3\\envs\\hackaton\\lib\\site-packages (from langchain) (0.0.2)\n",
      "Requirement already satisfied: langsmith<0.2.0,>=0.1.17 in c:\\users\\drbullido\\appdata\\local\\anaconda3\\envs\\hackaton\\lib\\site-packages (from langchain) (0.1.147)\n",
      "Requirement already satisfied: numpy<2,>=1 in c:\\users\\drbullido\\appdata\\local\\anaconda3\\envs\\hackaton\\lib\\site-packages (from langchain) (1.26.4)\n",
      "Requirement already satisfied: pydantic<3,>=1 in c:\\users\\drbullido\\appdata\\local\\anaconda3\\envs\\hackaton\\lib\\site-packages (from langchain) (2.11.0)\n",
      "Requirement already satisfied: requests<3,>=2 in c:\\users\\drbullido\\appdata\\local\\anaconda3\\envs\\hackaton\\lib\\site-packages (from langchain) (2.32.3)\n",
      "Requirement already satisfied: tenacity<9.0.0,>=8.1.0 in c:\\users\\drbullido\\appdata\\local\\anaconda3\\envs\\hackaton\\lib\\site-packages (from langchain) (8.5.0)\n",
      "Requirement already satisfied: types-requests<3.0.0.0,>=2.31.0.2 in c:\\users\\drbullido\\appdata\\local\\anaconda3\\envs\\hackaton\\lib\\site-packages (from langchainhub) (2.32.0.20250328)\n",
      "Requirement already satisfied: aiohappyeyeballs>=2.3.0 in c:\\users\\drbullido\\appdata\\local\\anaconda3\\envs\\hackaton\\lib\\site-packages (from aiohttp<4.0.0,>=3.8.3->langchain) (2.6.1)\n",
      "Requirement already satisfied: aiosignal>=1.1.2 in c:\\users\\drbullido\\appdata\\local\\anaconda3\\envs\\hackaton\\lib\\site-packages (from aiohttp<4.0.0,>=3.8.3->langchain) (1.3.2)\n",
      "Requirement already satisfied: attrs>=17.3.0 in c:\\users\\drbullido\\appdata\\local\\anaconda3\\envs\\hackaton\\lib\\site-packages (from aiohttp<4.0.0,>=3.8.3->langchain) (25.3.0)\n",
      "Requirement already satisfied: frozenlist>=1.1.1 in c:\\users\\drbullido\\appdata\\local\\anaconda3\\envs\\hackaton\\lib\\site-packages (from aiohttp<4.0.0,>=3.8.3->langchain) (1.5.0)\n",
      "Requirement already satisfied: multidict<7.0,>=4.5 in c:\\users\\drbullido\\appdata\\local\\anaconda3\\envs\\hackaton\\lib\\site-packages (from aiohttp<4.0.0,>=3.8.3->langchain) (6.2.0)\n",
      "Requirement already satisfied: propcache>=0.2.0 in c:\\users\\drbullido\\appdata\\local\\anaconda3\\envs\\hackaton\\lib\\site-packages (from aiohttp<4.0.0,>=3.8.3->langchain) (0.3.1)\n",
      "Requirement already satisfied: yarl<2.0,>=1.17.0 in c:\\users\\drbullido\\appdata\\local\\anaconda3\\envs\\hackaton\\lib\\site-packages (from aiohttp<4.0.0,>=3.8.3->langchain) (1.18.3)\n",
      "Requirement already satisfied: marshmallow<4.0.0,>=3.18.0 in c:\\users\\drbullido\\appdata\\local\\anaconda3\\envs\\hackaton\\lib\\site-packages (from dataclasses-json<0.7,>=0.5.7->langchain) (3.26.1)\n",
      "Requirement already satisfied: typing-inspect<1,>=0.4.0 in c:\\users\\drbullido\\appdata\\local\\anaconda3\\envs\\hackaton\\lib\\site-packages (from dataclasses-json<0.7,>=0.5.7->langchain) (0.9.0)\n",
      "Requirement already satisfied: jsonpointer>=1.9 in c:\\users\\drbullido\\appdata\\local\\anaconda3\\envs\\hackaton\\lib\\site-packages (from jsonpatch<2.0,>=1.33->langchain) (3.0.0)\n",
      "Requirement already satisfied: packaging<24.0,>=23.2 in c:\\users\\drbullido\\appdata\\local\\anaconda3\\envs\\hackaton\\lib\\site-packages (from langchain-core<0.2.0,>=0.1.33->langchain) (23.2)\n",
      "Requirement already satisfied: httpx<1,>=0.23.0 in c:\\users\\drbullido\\appdata\\local\\anaconda3\\envs\\hackaton\\lib\\site-packages (from langsmith<0.2.0,>=0.1.17->langchain) (0.28.1)\n",
      "Requirement already satisfied: orjson<4.0.0,>=3.9.14 in c:\\users\\drbullido\\appdata\\local\\anaconda3\\envs\\hackaton\\lib\\site-packages (from langsmith<0.2.0,>=0.1.17->langchain) (3.10.16)\n",
      "Requirement already satisfied: requests-toolbelt<2.0.0,>=1.0.0 in c:\\users\\drbullido\\appdata\\local\\anaconda3\\envs\\hackaton\\lib\\site-packages (from langsmith<0.2.0,>=0.1.17->langchain) (1.0.0)\n",
      "Requirement already satisfied: annotated-types>=0.6.0 in c:\\users\\drbullido\\appdata\\local\\anaconda3\\envs\\hackaton\\lib\\site-packages (from pydantic<3,>=1->langchain) (0.7.0)\n",
      "Requirement already satisfied: pydantic-core==2.33.0 in c:\\users\\drbullido\\appdata\\local\\anaconda3\\envs\\hackaton\\lib\\site-packages (from pydantic<3,>=1->langchain) (2.33.0)\n",
      "Requirement already satisfied: typing-extensions>=4.12.2 in c:\\users\\drbullido\\appdata\\local\\anaconda3\\envs\\hackaton\\lib\\site-packages (from pydantic<3,>=1->langchain) (4.12.2)\n",
      "Requirement already satisfied: typing-inspection>=0.4.0 in c:\\users\\drbullido\\appdata\\local\\anaconda3\\envs\\hackaton\\lib\\site-packages (from pydantic<3,>=1->langchain) (0.4.0)\n",
      "Requirement already satisfied: charset-normalizer<4,>=2 in c:\\users\\drbullido\\appdata\\local\\anaconda3\\envs\\hackaton\\lib\\site-packages (from requests<3,>=2->langchain) (3.4.1)\n",
      "Requirement already satisfied: idna<4,>=2.5 in c:\\users\\drbullido\\appdata\\local\\anaconda3\\envs\\hackaton\\lib\\site-packages (from requests<3,>=2->langchain) (3.10)\n",
      "Requirement already satisfied: urllib3<3,>=1.21.1 in c:\\users\\drbullido\\appdata\\local\\anaconda3\\envs\\hackaton\\lib\\site-packages (from requests<3,>=2->langchain) (2.3.0)\n",
      "Requirement already satisfied: certifi>=2017.4.17 in c:\\users\\drbullido\\appdata\\local\\anaconda3\\envs\\hackaton\\lib\\site-packages (from requests<3,>=2->langchain) (2025.1.31)\n",
      "Requirement already satisfied: greenlet>=1 in c:\\users\\drbullido\\appdata\\local\\anaconda3\\envs\\hackaton\\lib\\site-packages (from SQLAlchemy<3,>=1.4->langchain) (3.1.1)\n",
      "Requirement already satisfied: anyio in c:\\users\\drbullido\\appdata\\local\\anaconda3\\envs\\hackaton\\lib\\site-packages (from httpx<1,>=0.23.0->langsmith<0.2.0,>=0.1.17->langchain) (4.9.0)\n",
      "Requirement already satisfied: httpcore==1.* in c:\\users\\drbullido\\appdata\\local\\anaconda3\\envs\\hackaton\\lib\\site-packages (from httpx<1,>=0.23.0->langsmith<0.2.0,>=0.1.17->langchain) (1.0.7)\n",
      "Requirement already satisfied: h11<0.15,>=0.13 in c:\\users\\drbullido\\appdata\\local\\anaconda3\\envs\\hackaton\\lib\\site-packages (from httpcore==1.*->httpx<1,>=0.23.0->langsmith<0.2.0,>=0.1.17->langchain) (0.14.0)\n",
      "Requirement already satisfied: mypy-extensions>=0.3.0 in c:\\users\\drbullido\\appdata\\local\\anaconda3\\envs\\hackaton\\lib\\site-packages (from typing-inspect<1,>=0.4.0->dataclasses-json<0.7,>=0.5.7->langchain) (1.0.0)\n",
      "Requirement already satisfied: sniffio>=1.1 in c:\\users\\drbullido\\appdata\\local\\anaconda3\\envs\\hackaton\\lib\\site-packages (from anyio->httpx<1,>=0.23.0->langsmith<0.2.0,>=0.1.17->langchain) (1.3.1)\n"
     ]
    }
   ],
   "source": [
    "!pip install langchain langchainhub"
   ]
  },
  {
   "cell_type": "code",
   "execution_count": 3,
   "metadata": {},
   "outputs": [
    {
     "name": "stdout",
     "output_type": "stream",
     "text": [
      "Requirement already satisfied: google-api-python-client in c:\\users\\drbullido\\appdata\\local\\anaconda3\\envs\\hackaton\\lib\\site-packages (2.166.0)\n",
      "Requirement already satisfied: python-dotenv in c:\\users\\drbullido\\appdata\\local\\anaconda3\\envs\\hackaton\\lib\\site-packages (1.1.0)\n",
      "Requirement already satisfied: httplib2<1.0.0,>=0.19.0 in c:\\users\\drbullido\\appdata\\local\\anaconda3\\envs\\hackaton\\lib\\site-packages (from google-api-python-client) (0.22.0)\n",
      "Requirement already satisfied: google-auth!=2.24.0,!=2.25.0,<3.0.0,>=1.32.0 in c:\\users\\drbullido\\appdata\\local\\anaconda3\\envs\\hackaton\\lib\\site-packages (from google-api-python-client) (2.38.0)\n",
      "Requirement already satisfied: google-auth-httplib2<1.0.0,>=0.2.0 in c:\\users\\drbullido\\appdata\\local\\anaconda3\\envs\\hackaton\\lib\\site-packages (from google-api-python-client) (0.2.0)\n",
      "Requirement already satisfied: google-api-core!=2.0.*,!=2.1.*,!=2.2.*,!=2.3.0,<3.0.0,>=1.31.5 in c:\\users\\drbullido\\appdata\\local\\anaconda3\\envs\\hackaton\\lib\\site-packages (from google-api-python-client) (2.24.2)\n",
      "Requirement already satisfied: uritemplate<5,>=3.0.1 in c:\\users\\drbullido\\appdata\\local\\anaconda3\\envs\\hackaton\\lib\\site-packages (from google-api-python-client) (4.1.1)\n",
      "Requirement already satisfied: googleapis-common-protos<2.0.0,>=1.56.2 in c:\\users\\drbullido\\appdata\\local\\anaconda3\\envs\\hackaton\\lib\\site-packages (from google-api-core!=2.0.*,!=2.1.*,!=2.2.*,!=2.3.0,<3.0.0,>=1.31.5->google-api-python-client) (1.69.2)\n",
      "Requirement already satisfied: protobuf!=3.20.0,!=3.20.1,!=4.21.0,!=4.21.1,!=4.21.2,!=4.21.3,!=4.21.4,!=4.21.5,<7.0.0,>=3.19.5 in c:\\users\\drbullido\\appdata\\local\\anaconda3\\envs\\hackaton\\lib\\site-packages (from google-api-core!=2.0.*,!=2.1.*,!=2.2.*,!=2.3.0,<3.0.0,>=1.31.5->google-api-python-client) (5.29.4)\n",
      "Requirement already satisfied: proto-plus<2.0.0,>=1.22.3 in c:\\users\\drbullido\\appdata\\local\\anaconda3\\envs\\hackaton\\lib\\site-packages (from google-api-core!=2.0.*,!=2.1.*,!=2.2.*,!=2.3.0,<3.0.0,>=1.31.5->google-api-python-client) (1.26.1)\n",
      "Requirement already satisfied: requests<3.0.0,>=2.18.0 in c:\\users\\drbullido\\appdata\\local\\anaconda3\\envs\\hackaton\\lib\\site-packages (from google-api-core!=2.0.*,!=2.1.*,!=2.2.*,!=2.3.0,<3.0.0,>=1.31.5->google-api-python-client) (2.32.3)\n",
      "Requirement already satisfied: cachetools<6.0,>=2.0.0 in c:\\users\\drbullido\\appdata\\local\\anaconda3\\envs\\hackaton\\lib\\site-packages (from google-auth!=2.24.0,!=2.25.0,<3.0.0,>=1.32.0->google-api-python-client) (5.5.2)\n",
      "Requirement already satisfied: pyasn1-modules>=0.2.1 in c:\\users\\drbullido\\appdata\\local\\anaconda3\\envs\\hackaton\\lib\\site-packages (from google-auth!=2.24.0,!=2.25.0,<3.0.0,>=1.32.0->google-api-python-client) (0.4.2)\n",
      "Requirement already satisfied: rsa<5,>=3.1.4 in c:\\users\\drbullido\\appdata\\local\\anaconda3\\envs\\hackaton\\lib\\site-packages (from google-auth!=2.24.0,!=2.25.0,<3.0.0,>=1.32.0->google-api-python-client) (4.9)\n",
      "Requirement already satisfied: pyparsing!=3.0.0,!=3.0.1,!=3.0.2,!=3.0.3,<4,>=2.4.2 in c:\\users\\drbullido\\appdata\\local\\anaconda3\\envs\\hackaton\\lib\\site-packages (from httplib2<1.0.0,>=0.19.0->google-api-python-client) (3.2.3)\n",
      "Requirement already satisfied: pyasn1<0.7.0,>=0.6.1 in c:\\users\\drbullido\\appdata\\local\\anaconda3\\envs\\hackaton\\lib\\site-packages (from pyasn1-modules>=0.2.1->google-auth!=2.24.0,!=2.25.0,<3.0.0,>=1.32.0->google-api-python-client) (0.6.1)\n",
      "Requirement already satisfied: charset-normalizer<4,>=2 in c:\\users\\drbullido\\appdata\\local\\anaconda3\\envs\\hackaton\\lib\\site-packages (from requests<3.0.0,>=2.18.0->google-api-core!=2.0.*,!=2.1.*,!=2.2.*,!=2.3.0,<3.0.0,>=1.31.5->google-api-python-client) (3.4.1)\n",
      "Requirement already satisfied: idna<4,>=2.5 in c:\\users\\drbullido\\appdata\\local\\anaconda3\\envs\\hackaton\\lib\\site-packages (from requests<3.0.0,>=2.18.0->google-api-core!=2.0.*,!=2.1.*,!=2.2.*,!=2.3.0,<3.0.0,>=1.31.5->google-api-python-client) (3.10)\n",
      "Requirement already satisfied: urllib3<3,>=1.21.1 in c:\\users\\drbullido\\appdata\\local\\anaconda3\\envs\\hackaton\\lib\\site-packages (from requests<3.0.0,>=2.18.0->google-api-core!=2.0.*,!=2.1.*,!=2.2.*,!=2.3.0,<3.0.0,>=1.31.5->google-api-python-client) (2.3.0)\n",
      "Requirement already satisfied: certifi>=2017.4.17 in c:\\users\\drbullido\\appdata\\local\\anaconda3\\envs\\hackaton\\lib\\site-packages (from requests<3.0.0,>=2.18.0->google-api-core!=2.0.*,!=2.1.*,!=2.2.*,!=2.3.0,<3.0.0,>=1.31.5->google-api-python-client) (2025.1.31)\n"
     ]
    }
   ],
   "source": [
    "!pip install google-api-python-client python-dotenv"
   ]
  },
  {
   "cell_type": "code",
   "execution_count": 5,
   "metadata": {},
   "outputs": [
    {
     "name": "stdout",
     "output_type": "stream",
     "text": [
      "Collecting langchain_ibm\n",
      "  Using cached langchain_ibm-0.3.8-py3-none-any.whl.metadata (5.2 kB)\n",
      "Collecting ibm-watsonx-ai<2.0.0,>=1.2.10 (from langchain_ibm)\n",
      "  Downloading ibm_watsonx_ai-1.3.3-py3-none-any.whl.metadata (6.5 kB)\n",
      "Collecting langchain-core<0.4,>=0.3.0 (from langchain_ibm)\n",
      "  Using cached langchain_core-0.3.49-py3-none-any.whl.metadata (5.9 kB)\n",
      "Requirement already satisfied: requests in c:\\users\\drbullido\\appdata\\local\\anaconda3\\envs\\hackaton\\lib\\site-packages (from ibm-watsonx-ai<2.0.0,>=1.2.10->langchain_ibm) (2.32.3)\n",
      "Requirement already satisfied: httpx<0.29,>=0.27 in c:\\users\\drbullido\\appdata\\local\\anaconda3\\envs\\hackaton\\lib\\site-packages (from ibm-watsonx-ai<2.0.0,>=1.2.10->langchain_ibm) (0.28.1)\n",
      "Requirement already satisfied: urllib3 in c:\\users\\drbullido\\appdata\\local\\anaconda3\\envs\\hackaton\\lib\\site-packages (from ibm-watsonx-ai<2.0.0,>=1.2.10->langchain_ibm) (2.3.0)\n",
      "Requirement already satisfied: pandas<2.3.0,>=0.24.2 in c:\\users\\drbullido\\appdata\\local\\anaconda3\\envs\\hackaton\\lib\\site-packages (from ibm-watsonx-ai<2.0.0,>=1.2.10->langchain_ibm) (2.2.3)\n",
      "Requirement already satisfied: certifi in c:\\users\\drbullido\\appdata\\local\\anaconda3\\envs\\hackaton\\lib\\site-packages (from ibm-watsonx-ai<2.0.0,>=1.2.10->langchain_ibm) (2025.1.31)\n",
      "Collecting lomond (from ibm-watsonx-ai<2.0.0,>=1.2.10->langchain_ibm)\n",
      "  Using cached lomond-0.3.3-py2.py3-none-any.whl.metadata (4.1 kB)\n",
      "Collecting tabulate (from ibm-watsonx-ai<2.0.0,>=1.2.10->langchain_ibm)\n",
      "  Using cached tabulate-0.9.0-py3-none-any.whl.metadata (34 kB)\n",
      "Requirement already satisfied: packaging in c:\\users\\drbullido\\appdata\\local\\anaconda3\\envs\\hackaton\\lib\\site-packages (from ibm-watsonx-ai<2.0.0,>=1.2.10->langchain_ibm) (23.2)\n",
      "Collecting ibm-cos-sdk<2.15.0,>=2.12.0 (from ibm-watsonx-ai<2.0.0,>=1.2.10->langchain_ibm)\n",
      "  Using cached ibm-cos-sdk-2.14.0.tar.gz (58 kB)\n",
      "  Preparing metadata (setup.py): started\n",
      "  Preparing metadata (setup.py): finished with status 'done'\n",
      "Requirement already satisfied: langsmith<0.4,>=0.1.125 in c:\\users\\drbullido\\appdata\\local\\anaconda3\\envs\\hackaton\\lib\\site-packages (from langchain-core<0.4,>=0.3.0->langchain_ibm) (0.1.147)\n",
      "Requirement already satisfied: tenacity!=8.4.0,<10.0.0,>=8.1.0 in c:\\users\\drbullido\\appdata\\local\\anaconda3\\envs\\hackaton\\lib\\site-packages (from langchain-core<0.4,>=0.3.0->langchain_ibm) (8.5.0)\n",
      "Requirement already satisfied: jsonpatch<2.0,>=1.33 in c:\\users\\drbullido\\appdata\\local\\anaconda3\\envs\\hackaton\\lib\\site-packages (from langchain-core<0.4,>=0.3.0->langchain_ibm) (1.33)\n",
      "Requirement already satisfied: PyYAML>=5.3 in c:\\users\\drbullido\\appdata\\local\\anaconda3\\envs\\hackaton\\lib\\site-packages (from langchain-core<0.4,>=0.3.0->langchain_ibm) (6.0.2)\n",
      "Requirement already satisfied: typing-extensions>=4.7 in c:\\users\\drbullido\\appdata\\local\\anaconda3\\envs\\hackaton\\lib\\site-packages (from langchain-core<0.4,>=0.3.0->langchain_ibm) (4.12.2)\n",
      "Requirement already satisfied: pydantic<3.0.0,>=2.5.2 in c:\\users\\drbullido\\appdata\\local\\anaconda3\\envs\\hackaton\\lib\\site-packages (from langchain-core<0.4,>=0.3.0->langchain_ibm) (2.11.0)\n",
      "Requirement already satisfied: anyio in c:\\users\\drbullido\\appdata\\local\\anaconda3\\envs\\hackaton\\lib\\site-packages (from httpx<0.29,>=0.27->ibm-watsonx-ai<2.0.0,>=1.2.10->langchain_ibm) (4.9.0)\n",
      "Requirement already satisfied: httpcore==1.* in c:\\users\\drbullido\\appdata\\local\\anaconda3\\envs\\hackaton\\lib\\site-packages (from httpx<0.29,>=0.27->ibm-watsonx-ai<2.0.0,>=1.2.10->langchain_ibm) (1.0.7)\n",
      "Requirement already satisfied: idna in c:\\users\\drbullido\\appdata\\local\\anaconda3\\envs\\hackaton\\lib\\site-packages (from httpx<0.29,>=0.27->ibm-watsonx-ai<2.0.0,>=1.2.10->langchain_ibm) (3.10)\n",
      "Requirement already satisfied: h11<0.15,>=0.13 in c:\\users\\drbullido\\appdata\\local\\anaconda3\\envs\\hackaton\\lib\\site-packages (from httpcore==1.*->httpx<0.29,>=0.27->ibm-watsonx-ai<2.0.0,>=1.2.10->langchain_ibm) (0.14.0)\n",
      "Collecting ibm-cos-sdk-core==2.14.0 (from ibm-cos-sdk<2.15.0,>=2.12.0->ibm-watsonx-ai<2.0.0,>=1.2.10->langchain_ibm)\n",
      "  Using cached ibm-cos-sdk-core-2.14.0.tar.gz (1.1 MB)\n",
      "  Preparing metadata (setup.py): started\n",
      "  Preparing metadata (setup.py): finished with status 'done'\n",
      "Collecting ibm-cos-sdk-s3transfer==2.14.0 (from ibm-cos-sdk<2.15.0,>=2.12.0->ibm-watsonx-ai<2.0.0,>=1.2.10->langchain_ibm)\n",
      "  Using cached ibm-cos-sdk-s3transfer-2.14.0.tar.gz (139 kB)\n",
      "  Preparing metadata (setup.py): started\n",
      "  Preparing metadata (setup.py): finished with status 'done'\n",
      "Collecting jmespath<=1.0.1,>=0.10.0 (from ibm-cos-sdk<2.15.0,>=2.12.0->ibm-watsonx-ai<2.0.0,>=1.2.10->langchain_ibm)\n",
      "  Using cached jmespath-1.0.1-py3-none-any.whl.metadata (7.6 kB)\n",
      "Requirement already satisfied: python-dateutil<3.0.0,>=2.9.0 in c:\\users\\drbullido\\appdata\\local\\anaconda3\\envs\\hackaton\\lib\\site-packages (from ibm-cos-sdk-core==2.14.0->ibm-cos-sdk<2.15.0,>=2.12.0->ibm-watsonx-ai<2.0.0,>=1.2.10->langchain_ibm) (2.9.0.post0)\n",
      "Collecting requests (from ibm-watsonx-ai<2.0.0,>=1.2.10->langchain_ibm)\n",
      "  Using cached requests-2.32.2-py3-none-any.whl.metadata (4.6 kB)\n",
      "Requirement already satisfied: jsonpointer>=1.9 in c:\\users\\drbullido\\appdata\\local\\anaconda3\\envs\\hackaton\\lib\\site-packages (from jsonpatch<2.0,>=1.33->langchain-core<0.4,>=0.3.0->langchain_ibm) (3.0.0)\n",
      "Requirement already satisfied: orjson<4.0.0,>=3.9.14 in c:\\users\\drbullido\\appdata\\local\\anaconda3\\envs\\hackaton\\lib\\site-packages (from langsmith<0.4,>=0.1.125->langchain-core<0.4,>=0.3.0->langchain_ibm) (3.10.16)\n",
      "Requirement already satisfied: requests-toolbelt<2.0.0,>=1.0.0 in c:\\users\\drbullido\\appdata\\local\\anaconda3\\envs\\hackaton\\lib\\site-packages (from langsmith<0.4,>=0.1.125->langchain-core<0.4,>=0.3.0->langchain_ibm) (1.0.0)\n",
      "Requirement already satisfied: numpy>=1.23.2 in c:\\users\\drbullido\\appdata\\local\\anaconda3\\envs\\hackaton\\lib\\site-packages (from pandas<2.3.0,>=0.24.2->ibm-watsonx-ai<2.0.0,>=1.2.10->langchain_ibm) (1.26.4)\n",
      "Requirement already satisfied: pytz>=2020.1 in c:\\users\\drbullido\\appdata\\local\\anaconda3\\envs\\hackaton\\lib\\site-packages (from pandas<2.3.0,>=0.24.2->ibm-watsonx-ai<2.0.0,>=1.2.10->langchain_ibm) (2025.1)\n",
      "Requirement already satisfied: tzdata>=2022.7 in c:\\users\\drbullido\\appdata\\local\\anaconda3\\envs\\hackaton\\lib\\site-packages (from pandas<2.3.0,>=0.24.2->ibm-watsonx-ai<2.0.0,>=1.2.10->langchain_ibm) (2025.1)\n",
      "Requirement already satisfied: annotated-types>=0.6.0 in c:\\users\\drbullido\\appdata\\local\\anaconda3\\envs\\hackaton\\lib\\site-packages (from pydantic<3.0.0,>=2.5.2->langchain-core<0.4,>=0.3.0->langchain_ibm) (0.7.0)\n",
      "Requirement already satisfied: pydantic-core==2.33.0 in c:\\users\\drbullido\\appdata\\local\\anaconda3\\envs\\hackaton\\lib\\site-packages (from pydantic<3.0.0,>=2.5.2->langchain-core<0.4,>=0.3.0->langchain_ibm) (2.33.0)\n",
      "Requirement already satisfied: typing-inspection>=0.4.0 in c:\\users\\drbullido\\appdata\\local\\anaconda3\\envs\\hackaton\\lib\\site-packages (from pydantic<3.0.0,>=2.5.2->langchain-core<0.4,>=0.3.0->langchain_ibm) (0.4.0)\n",
      "Requirement already satisfied: charset-normalizer<4,>=2 in c:\\users\\drbullido\\appdata\\local\\anaconda3\\envs\\hackaton\\lib\\site-packages (from requests->ibm-watsonx-ai<2.0.0,>=1.2.10->langchain_ibm) (3.4.1)\n",
      "Requirement already satisfied: six>=1.10.0 in c:\\users\\drbullido\\appdata\\local\\anaconda3\\envs\\hackaton\\lib\\site-packages (from lomond->ibm-watsonx-ai<2.0.0,>=1.2.10->langchain_ibm) (1.17.0)\n",
      "Requirement already satisfied: sniffio>=1.1 in c:\\users\\drbullido\\appdata\\local\\anaconda3\\envs\\hackaton\\lib\\site-packages (from anyio->httpx<0.29,>=0.27->ibm-watsonx-ai<2.0.0,>=1.2.10->langchain_ibm) (1.3.1)\n",
      "Downloading langchain_ibm-0.3.8-py3-none-any.whl (27 kB)\n",
      "Downloading ibm_watsonx_ai-1.3.3-py3-none-any.whl (1.1 MB)\n",
      "   ---------------------------------------- 0.0/1.1 MB ? eta -:--:--\n",
      "   ---------------------------------------- 0.0/1.1 MB ? eta -:--:--\n",
      "   ------------------- -------------------- 0.5/1.1 MB 1.9 MB/s eta 0:00:01\n",
      "   -------------------------------------- - 1.0/1.1 MB 2.3 MB/s eta 0:00:01\n",
      "   ---------------------------------------- 1.1/1.1 MB 1.9 MB/s eta 0:00:00\n",
      "Using cached langchain_core-0.3.49-py3-none-any.whl (420 kB)\n",
      "Using cached requests-2.32.2-py3-none-any.whl (63 kB)\n",
      "Using cached lomond-0.3.3-py2.py3-none-any.whl (35 kB)\n",
      "Using cached tabulate-0.9.0-py3-none-any.whl (35 kB)\n",
      "Using cached jmespath-1.0.1-py3-none-any.whl (20 kB)\n",
      "Building wheels for collected packages: ibm-cos-sdk, ibm-cos-sdk-core, ibm-cos-sdk-s3transfer\n",
      "  Building wheel for ibm-cos-sdk (setup.py): started\n",
      "  Building wheel for ibm-cos-sdk (setup.py): finished with status 'done'\n",
      "  Created wheel for ibm-cos-sdk: filename=ibm_cos_sdk-2.14.0-py3-none-any.whl size=77314 sha256=1e9b74fab8fe685f3f81bc3275baa85367835bd28919272d059c256383cd09c4\n",
      "  Stored in directory: c:\\users\\drbullido\\appdata\\local\\pip\\cache\\wheels\\4b\\01\\bb\\40ddcf848244c9692529698606e1f676211854f9167f508557\n",
      "  Building wheel for ibm-cos-sdk-core (setup.py): started\n",
      "  Building wheel for ibm-cos-sdk-core (setup.py): finished with status 'done'\n",
      "  Created wheel for ibm-cos-sdk-core: filename=ibm_cos_sdk_core-2.14.0-py3-none-any.whl size=661801 sha256=0b6e0e939702bd9cb71bb1f353b305397663e7efb3822443b1066e9e3d07c528\n",
      "  Stored in directory: c:\\users\\drbullido\\appdata\\local\\pip\\cache\\wheels\\ed\\9a\\76\\f3c61ecd008692b6952e34520b4aa9323137a70ded2f25f207\n",
      "  Building wheel for ibm-cos-sdk-s3transfer (setup.py): started\n",
      "  Building wheel for ibm-cos-sdk-s3transfer (setup.py): finished with status 'done'\n",
      "  Created wheel for ibm-cos-sdk-s3transfer: filename=ibm_cos_sdk_s3transfer-2.14.0-py3-none-any.whl size=90273 sha256=b5880ba5dfccfdabc8eda7a12062caaaa4411bc0822638953d8a849df68ededc\n",
      "  Stored in directory: c:\\users\\drbullido\\appdata\\local\\pip\\cache\\wheels\\98\\b4\\30\\eeb29a07454370efab9d445ac6bcad993ff4e61a79f910c974\n",
      "Successfully built ibm-cos-sdk ibm-cos-sdk-core ibm-cos-sdk-s3transfer\n",
      "Installing collected packages: tabulate, requests, lomond, jmespath, ibm-cos-sdk-core, ibm-cos-sdk-s3transfer, langchain-core, ibm-cos-sdk, ibm-watsonx-ai, langchain_ibm\n",
      "  Attempting uninstall: requests\n",
      "    Found existing installation: requests 2.32.3\n",
      "    Uninstalling requests-2.32.3:\n",
      "      Successfully uninstalled requests-2.32.3\n",
      "  Attempting uninstall: langchain-core\n",
      "    Found existing installation: langchain-core 0.1.53\n",
      "    Uninstalling langchain-core-0.1.53:\n",
      "      Successfully uninstalled langchain-core-0.1.53\n",
      "Successfully installed ibm-cos-sdk-2.14.0 ibm-cos-sdk-core-2.14.0 ibm-cos-sdk-s3transfer-2.14.0 ibm-watsonx-ai-1.3.3 jmespath-1.0.1 langchain-core-0.3.49 langchain_ibm-0.3.8 lomond-0.3.3 requests-2.32.2 tabulate-0.9.0\n"
     ]
    },
    {
     "name": "stderr",
     "output_type": "stream",
     "text": [
      "ERROR: pip's dependency resolver does not currently take into account all the packages that are installed. This behaviour is the source of the following dependency conflicts.\n",
      "langchain 0.1.13 requires langchain-core<0.2.0,>=0.1.33, but you have langchain-core 0.3.49 which is incompatible.\n",
      "langchain-community 0.0.38 requires langchain-core<0.2.0,>=0.1.52, but you have langchain-core 0.3.49 which is incompatible.\n",
      "langchain-google-community 2.0.7 requires langchain-community<0.4.0,>=0.3.0, but you have langchain-community 0.0.38 which is incompatible.\n",
      "langchain-text-splitters 0.0.2 requires langchain-core<0.3,>=0.1.28, but you have langchain-core 0.3.49 which is incompatible.\n"
     ]
    }
   ],
   "source": [
    "!pip install langchain_ibm "
   ]
  },
  {
   "cell_type": "code",
   "execution_count": 24,
   "metadata": {},
   "outputs": [
    {
     "name": "stdout",
     "output_type": "stream",
     "text": [
      "Collecting google-search-results\n",
      "  Downloading google_search_results-2.4.2.tar.gz (18 kB)\n",
      "  Preparing metadata (setup.py): started\n",
      "  Preparing metadata (setup.py): finished with status 'done'\n",
      "Requirement already satisfied: requests in c:\\users\\drbullido\\appdata\\local\\anaconda3\\envs\\hackaton\\lib\\site-packages (from google-search-results) (2.32.2)\n",
      "Requirement already satisfied: charset-normalizer<4,>=2 in c:\\users\\drbullido\\appdata\\local\\anaconda3\\envs\\hackaton\\lib\\site-packages (from requests->google-search-results) (3.4.1)\n",
      "Requirement already satisfied: idna<4,>=2.5 in c:\\users\\drbullido\\appdata\\local\\anaconda3\\envs\\hackaton\\lib\\site-packages (from requests->google-search-results) (3.10)\n",
      "Requirement already satisfied: urllib3<3,>=1.21.1 in c:\\users\\drbullido\\appdata\\local\\anaconda3\\envs\\hackaton\\lib\\site-packages (from requests->google-search-results) (2.3.0)\n",
      "Requirement already satisfied: certifi>=2017.4.17 in c:\\users\\drbullido\\appdata\\local\\anaconda3\\envs\\hackaton\\lib\\site-packages (from requests->google-search-results) (2025.1.31)\n",
      "Building wheels for collected packages: google-search-results\n",
      "  Building wheel for google-search-results (setup.py): started\n",
      "  Building wheel for google-search-results (setup.py): finished with status 'done'\n",
      "  Created wheel for google-search-results: filename=google_search_results-2.4.2-py3-none-any.whl size=32142 sha256=57df07e4b65ae396a806285d00b60ccb3aaa47ace3c08b569c8e48b5bbcc0171\n",
      "  Stored in directory: c:\\users\\drbullido\\appdata\\local\\pip\\cache\\wheels\\6e\\42\\3e\\aeb691b02cb7175ec70e2da04b5658d4739d2b41e5f73cd06f\n",
      "Successfully built google-search-results\n",
      "Installing collected packages: google-search-results\n",
      "Successfully installed google-search-results-2.4.2\n"
     ]
    }
   ],
   "source": [
    "!pip install google-search-results"
   ]
  },
  {
   "cell_type": "code",
   "execution_count": 30,
   "metadata": {},
   "outputs": [],
   "source": [
    "import os\n",
    "from dotenv import load_dotenv\n",
    "load_dotenv()\n",
    "from langchain_community.utilities import GoogleSearchAPIWrapper\n",
    "from langchain_community.utilities import SerpAPIWrapper\n",
    "from langchain_core.tools import Tool \n"
   ]
  },
  {
   "cell_type": "code",
   "execution_count": 31,
   "metadata": {},
   "outputs": [],
   "source": [
    "from langchain_community.utilities import SerpAPIWrapper"
   ]
  },
  {
   "cell_type": "code",
   "execution_count": 34,
   "metadata": {},
   "outputs": [
    {
     "data": {
      "text/plain": [
       "\"[' entity_type: related_questions.', 'informacion@vitoria-gasteiz.org · Mapa web · Accesibilidad · Política de privacidad · Aviso legal. © Ayuntamiento de Vitoria-Gasteiz / Vitoria-Gasteizko Udala.', 'Email: informacion@vitoria-gasteiz.org · Puntos de atención presencial a la ciudadanía. Reproducir vídeo: ¿Qué es el registro electrónico y cómo funciona?', 'Ver Oficinas asociadas; Email: alcaldia@vitoria-gasteiz.org; www.vitoria-gasteiz.org; Teléfono: 945161515; Fax: 945232797 ...', 'The most common Ayuntamiento de Vitoria-Gasteiz email format is [first_initial][last] (ex. jdoe@vitoria-gasteiz.org), which is being used by 100.0% of ...', 'Teléfono 945 161 616 (centralita municipal) / 945 16 11 00 (Servicio 010) · Fax 945 16 13 98 · Correo electrónico informacion@vitoria-gasteiz.org ...', 'Todas las noticias sobre Nuevo Ayuntamiento de Vitoria-Gasteiz publicadas en El Correo. Toda la información y última hora sobre Nuevo Ayuntamiento de ...', '- Email: informacion@vitoria-gasteiz.org - Página web: www.vitoria ... ¿A qué sector pertenece Ayuntamiento De Vitoria-gasteiz? Pertenece al sector ...', 'El Correo, de la mano del Ayuntamiento de Vitoria- Gasteiz y de la Diputación Foral de Álava, pone en marcha una campaña de apoyo al ...', '01008 Vitoria-Gasteiz (Araba/Álava). Dirección Web. http://www.vitoria-gasteiz.org. Email. contratacion.ti@vitoria-gasteiz.org. Teléfono. +34 945161413. Quorum ...', 'En esta página web tienes la información más importante como: dirección, teléfono, email y la web del Ayuntamiento de Vitoria-Gasteiz. Contenidos ocultar. 1 ...']\""
      ]
     },
     "execution_count": 34,
     "metadata": {},
     "output_type": "execute_result"
    }
   ],
   "source": [
    "search = SerpAPIWrapper()\n",
    "search.run(\"Cual es el email del ayundamiento de Vitoria-Gasteiz?\")"
   ]
  },
  {
   "cell_type": "code",
   "execution_count": null,
   "metadata": {},
   "outputs": [],
   "source": [
    "from langchain_core.tools import Tool\n",
    "\n",
    "# Tool to pass to an agent\n",
    "google_tool = Tool(\n",
    "    name=\"google-search\",\n",
    "    description=\"Search Google for recent results\",\n",
    "    func=search.run,\n",
    ")"
   ]
  },
  {
   "cell_type": "code",
   "execution_count": 36,
   "metadata": {},
   "outputs": [],
   "source": [
    "from langchain_ibm import WatsonxLLM\n",
    "# from langchain.prompts import PromptTemplate"
   ]
  },
  {
   "cell_type": "code",
   "execution_count": 37,
   "metadata": {},
   "outputs": [],
   "source": [
    "watsonx_apikey = os.getenv('WATSONX_APIKEY')\n",
    "project_id =  os.getenv('PROJECT_ID')\n",
    "url= os.getenv('URL')"
   ]
  },
  {
   "cell_type": "code",
   "execution_count": 38,
   "metadata": {},
   "outputs": [],
   "source": [
    "params_dic= {\n",
    "    \"decoding_method\": \"greedy\",\n",
    "    \"temperature\": 0,\n",
    "    \"min_new_tokens\": 5,\n",
    "    \"max_new_tokens\": 5000,\n",
    "    # \"stop_sequences\": [\"\\n\\n\"]\n",
    "}\n",
    "llm = WatsonxLLM(\n",
    "    model_id=\n",
    "            # \"meta-llama/llama-3-405b-instruct\",\n",
    "            # \"meta-llama/llama-3-2-90b-vision-instruct\",\n",
    "        #    'ibm/granite-13b-instruct-v2',\n",
    "           'ibm/granite-3-8b-instruct',\n",
    "            \n",
    "    url=url,\n",
    "    apikey=watsonx_apikey,\n",
    "    project_id=project_id,\n",
    "    params=params_dic\n",
    ")"
   ]
  }
 ],
 "metadata": {
  "kernelspec": {
   "display_name": "hackaton",
   "language": "python",
   "name": "python3"
  },
  "language_info": {
   "codemirror_mode": {
    "name": "ipython",
    "version": 3
   },
   "file_extension": ".py",
   "mimetype": "text/x-python",
   "name": "python",
   "nbconvert_exporter": "python",
   "pygments_lexer": "ipython3",
   "version": "3.11.11"
  }
 },
 "nbformat": 4,
 "nbformat_minor": 2
}
