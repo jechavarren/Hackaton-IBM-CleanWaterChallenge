{
 "cells": [
  {
   "cell_type": "code",
   "execution_count": 37,
   "metadata": {},
   "outputs": [],
   "source": [
    "import os\n",
    "from dotenv import load_dotenv\n",
    "from langchain_ibm import WatsonxLLM\n",
    "from langchain.prompts import PromptTemplate"
   ]
  },
  {
   "cell_type": "code",
   "execution_count": 38,
   "metadata": {},
   "outputs": [],
   "source": [
    "load_dotenv()\n",
    "watsonx_apikey = os.getenv('WATSONX_APIKEY')\n",
    "project_id =  os.getenv('PROJECT_ID')\n",
    "url= os.getenv('URL')\n"
   ]
  },
  {
   "cell_type": "code",
   "execution_count": 39,
   "metadata": {},
   "outputs": [],
   "source": [
    "# Init llm model\n",
    "from langchain_ibm import WatsonxLLM\n",
    "params_dic= {\n",
    "    \"decoding_method\": \"greedy\",\n",
    "    \"temperature\": 0,\n",
    "    \"min_new_tokens\": 5,\n",
    "    \"max_new_tokens\": 5000,\n",
    "    # \"stop_sequences\": [\"\\n\\n\"]\n",
    "}\n",
    "llm = WatsonxLLM(\n",
    "    model_id=\n",
    "            # \"meta-llama/llama-3-405b-instruct\",\n",
    "            # \"meta-llama/llama-3-2-90b-vision-instruct\",\n",
    "        #    'ibm/granite-13b-instruct-v2',\n",
    "           'ibm/granite-3-8b-instruct',\n",
    "            \n",
    "    url=url,\n",
    "    apikey=watsonx_apikey,\n",
    "    project_id=project_id,\n",
    "    params=params_dic\n",
    ")"
   ]
  },
  {
   "cell_type": "code",
   "execution_count": null,
   "metadata": {},
   "outputs": [],
   "source": [
    "# modelos_granite_disponibles = [\n",
    "#     'ibm/granite-13b-instruct-v2', \n",
    "#     'ibm/granite-20b-code-instruct', \n",
    "#     'ibm/granite-20b-multilingual', \n",
    "#     'ibm/granite-3-2-8b-instruct', \n",
    "#     'ibm/granite-3-2b-instruct', \n",
    "#     'ibm/granite-3-8b-instruct', \n",
    "#     'ibm/granite-34b-code-instruct', \n",
    "#     'ibm/granite-3b-code-instruct', \n",
    "#     'ibm/granite-8b-code-instruct', \n",
    "#     'ibm/granite-guardian-3-2b', \n",
    "#     'ibm/granite-guardian-3-8b', \n",
    "#     'ibm/granite-vision-3-2-2b'\n",
    "# ]"
   ]
  },
  {
   "cell_type": "code",
   "execution_count": 4,
   "metadata": {},
   "outputs": [
    {
     "data": {
      "text/plain": [
       "\"\\n\\nHello! I'm an assistant developed to help answer your questions. I don't have a personal name, but you can call me Assistant. How can I assist you today?\""
      ]
     },
     "execution_count": 4,
     "metadata": {},
     "output_type": "execute_result"
    }
   ],
   "source": [
    "llm.invoke(\"hello, whats your name?\")"
   ]
  },
  {
   "cell_type": "code",
   "execution_count": null,
   "metadata": {},
   "outputs": [],
   "source": [
    "# prompt_text=\"\"\"   \n",
    "# Eres un asistente especializado en el análisis de métricas de calidad del agua potable. \n",
    "# Se te ha proporcionado un historial de 10 muestras tomadas en diferentes momentos en un mismo punto de agua potable:\n",
    "\n",
    "# \"{datos_calidad_agua}\"\n",
    "\n",
    "# Analiza los datos proporcionados evaluando si el valor más reciente presenta una desviación significativa respecto a la tendencia general observada en las muestras anteriores. \n",
    "\n",
    "# Devuelve solo el resumen de tu evaluación con una longitud de 1000 tokens aproximadamente.\n",
    "\n",
    "# Respuesta:\n",
    "# \"\"\""
   ]
  },
  {
   "cell_type": "code",
   "execution_count": null,
   "metadata": {},
   "outputs": [],
   "source": [
    "prompt_text=\"\"\"  \n",
    "\n",
    "Rol:\n",
    "Eres un asistente experto en el análisis de métricas de calidad del agua potable.\n",
    "\n",
    "Contexto:\n",
    "Se te ha proporcionado un historial de 10 muestras tomadas en diferentes fechas en un mismo punto de agua potable:\n",
    "\n",
    "Datos de calidad del agua:\n",
    "{datos_calidad_agua}  \n",
    "\n",
    "Tarea:\n",
    "\n",
    "Analiza las tendencias generales de los parámetros a lo largo del tiempo.\n",
    "\n",
    "Evalúa la muestra más reciente y determina si presenta una desviación significativa respecto a la tendencia previa.\n",
    "\n",
    "Identifica posibles riesgos para la calidad del agua, indicando qué parámetros están fuera de los valores normales.\n",
    "\n",
    "Si la calidad ha mejorado o empeorado, explica las posibles causas y sus implicaciones.\n",
    "\n",
    "Salida esperada:\n",
    "Resumen de evaluación (≈1000 tokens):\n",
    "\n",
    "Estado actual de la calidad del agua en la última medición.\n",
    "\n",
    "Comparación con tendencias anteriores y valores de referencia.\n",
    "\n",
    "Identificación de parámetros críticos con explicaciones.\n",
    "\n",
    "Conclusión sobre la estabilidad de la calidad del agua.\n",
    "\"\"\""
   ]
  },
  {
   "cell_type": "code",
   "execution_count": null,
   "metadata": {},
   "outputs": [],
   "source": [
    "# promt_text= \"\"\"    \n",
    "# Eres un asistente experto en analizar metricas de calidad de agua. \n",
    "# Te han proporcionado el historial (10 muestras en diferentes moemntos)de datos de calidad de agua en un mismo punto de agua potable:\n",
    "\n",
    "# \"{datos_calidad_agua}\"\n",
    "\n",
    "# Tu tarea es analizar los datos y ver si el valor mas reciente se desvía de la tendencia general de los datos.\n",
    "# Dame una evaluación de la evolución y del estado actual de la calidad del agua en este punto de agua potable.\n",
    "# Respuesta:\n",
    "# \"\"\""
   ]
  },
  {
   "cell_type": "code",
   "execution_count": 58,
   "metadata": {},
   "outputs": [],
   "source": [
    "def ask_llm(llm, datos_calidad):\n",
    "    # Crear el prompt con LangChan\n",
    "    prompt_template = PromptTemplate(\n",
    "            input_variables=[\"datos_calidad_agua\"],\n",
    "            template=prompt_text,\n",
    "    )\n",
    "\n",
    "    # 🔍 Print del prompt generado con los datos: \n",
    "    prompt_final = prompt_template.format(\n",
    "                                    datos_calidad_agua=datos_calidad\n",
    "    )\n",
    "    print(\"\\n\" + \"=\"*50)\n",
    "    print(\"🔍 PROMPT GENERADO:\")\n",
    "    print(prompt_final)\n",
    "    print(\"=\"*50 + \"\\n\")\n",
    "\n",
    "    \n",
    "    \n",
    "    llm_chain = prompt_template | llm\n",
    "    output = llm_chain.invoke({\"datos_calidad_agua\": datos_calidad}) \n",
    "    return output\n",
    "\n",
    "    "
   ]
  },
  {
   "cell_type": "markdown",
   "metadata": {},
   "source": [
    "# datos en sampling_point_id = \"48003090003\""
   ]
  },
  {
   "cell_type": "code",
   "execution_count": 22,
   "metadata": {},
   "outputs": [
    {
     "name": "stdout",
     "output_type": "stream",
     "text": [
      "         date  ALUMINIO  AMONIO  CLORO LIBRE RESIDUAL  \\\n",
      "0  2025-01-03       0.0     0.0                  0.51   \n",
      "1  2024-12-27       0.0     0.0                  0.48   \n",
      "2  2024-12-17       0.0     0.0                  0.53   \n",
      "3  2024-12-13       0.0     0.0                  0.49   \n",
      "4  2024-11-05       0.0     0.0                  0.42   \n",
      "5  2024-10-25       0.0     0.0                  0.51   \n",
      "6  2024-10-01      50.0     0.1                  0.50   \n",
      "7  2024-09-27      50.0     0.1                  0.47   \n",
      "8  2024-09-17      50.0     0.1                  0.45   \n",
      "9  2024-09-13      50.0     0.1                  0.52   \n",
      "\n",
      "   CLOSTRIDIUM PERFRINGENS (INCLUIDAS LAS ESPORAS)  COLIFORMES TOTALES (NMP)  \\\n",
      "0                                              0.0                       0.0   \n",
      "1                                              0.0                       0.0   \n",
      "2                                              0.0                       0.0   \n",
      "3                                              0.0                       0.0   \n",
      "4                                              0.0                       0.0   \n",
      "5                                              0.0                       0.0   \n",
      "6                                              0.0                       0.0   \n",
      "7                                              0.0                       0.0   \n",
      "8                                              0.0                       0.0   \n",
      "9                                              0.0                       0.0   \n",
      "\n",
      "   COLOR (Pt/Co)  CONDUCTIVIDAD (20ºC)  ENTEROCOCOS INTESTINALES (NMP)  \\\n",
      "0            0.0                 177.0                             0.0   \n",
      "1            0.0                 186.0                             0.0   \n",
      "2            0.0                 195.0                             0.0   \n",
      "3            0.0                 198.0                             0.0   \n",
      "4            0.0                 182.0                             0.0   \n",
      "5            0.0                 172.0                             0.0   \n",
      "6            5.0                 177.0                             0.0   \n",
      "7            5.0                 184.0                             0.0   \n",
      "8            5.0                 190.0                             0.0   \n",
      "9            5.0                 191.0                             0.0   \n",
      "\n",
      "   ESCHERICHIA COLI (NMP)  NITRITOS  PH (20ºC)  \\\n",
      "0                     0.0      0.00        8.1   \n",
      "1                     0.0      0.00        8.1   \n",
      "2                     0.0      0.00        8.1   \n",
      "3                     0.0      0.00        8.1   \n",
      "4                     0.0      0.00        8.0   \n",
      "5                     0.0      0.00        8.0   \n",
      "6                     0.0      0.03        8.1   \n",
      "7                     0.0      0.03        8.2   \n",
      "8                     0.0      0.03        8.1   \n",
      "9                     0.0      0.03        8.1   \n",
      "\n",
      "   RECUENTO DE BACTERIAS HETEROTROFAS A 22ºC  TEMPERATURA  TURBIDEZ  \n",
      "0                                        1.0         10.6      0.00  \n",
      "1                                        0.0         10.6      0.00  \n",
      "2                                        0.0         11.2      0.00  \n",
      "3                                        0.0         11.0      0.00  \n",
      "4                                        3.0         14.6      0.00  \n",
      "5                                        1.0         15.0      0.00  \n",
      "6                                        0.0         15.4      0.25  \n",
      "7                                        0.0         15.4      0.25  \n",
      "8                                        0.0         14.8      0.25  \n",
      "9                                        0.0         15.6      0.25  \n"
     ]
    }
   ],
   "source": [
    "import requests\n",
    "import pandas as pd\n",
    "\n",
    "# Definir los parámetros fijos\n",
    "sampling_point_id = \"48003090003\"\n",
    "lang = \"SPANISH\"\n",
    "\n",
    "# Lista de fechas\n",
    "measurement_dates = [\n",
    "    \"2025-01-03\", \"2024-12-27\", \"2024-12-17\", \"2024-12-13\",\n",
    "    \"2024-11-05\", \"2024-10-25\", \"2024-10-01\", \"2024-09-27\",\n",
    "    \"2024-09-17\", \"2024-09-13\"\n",
    "]\n",
    "\n",
    "# Crear una lista para almacenar los resultados\n",
    "data_list = []\n",
    "\n",
    "# Iterar sobre cada fecha y hacer la solicitud\n",
    "for date in measurement_dates:\n",
    "    url = f\"https://api.euskadi.eus/water-quality/sampling-points/{sampling_point_id}/measurements/{date}/analytical-data\"\n",
    "    params = {\"lang\": lang}\n",
    "    headers = {\"Accept\": \"application/json\"}\n",
    "\n",
    "    response = requests.get(url, headers=headers, params=params)\n",
    "\n",
    "    if response.status_code == 200:\n",
    "        data = response.json()\n",
    "        row = {\"date\": date}\n",
    "        \n",
    "        # Agregar cada parámetro como columna\n",
    "        for entry in data:\n",
    "            row[entry[\"parameter\"]] = entry[\"value\"]\n",
    "        \n",
    "        data_list.append(row)\n",
    "    else:\n",
    "        print(f\"Error con la fecha {date}: {response.status_code}\")\n",
    "\n",
    "# Convertir los datos en un DataFrame\n",
    "df = pd.DataFrame(data_list)\n",
    "\n",
    "# Mostrar el DataFrame\n",
    "print(df)\n",
    "\n",
    "# Guardar en un archivo CSV\n",
    "# df.to_csv(\"analytical_data.csv\", index=False)\n"
   ]
  },
  {
   "cell_type": "code",
   "execution_count": 26,
   "metadata": {},
   "outputs": [],
   "source": [
    "datos_calidad_= df.to_string()"
   ]
  },
  {
   "cell_type": "code",
   "execution_count": 29,
   "metadata": {},
   "outputs": [
    {
     "name": "stdout",
     "output_type": "stream",
     "text": [
      "         date  ALUMINIO  AMONIO  CLORO LIBRE RESIDUAL  CLOSTRIDIUM PERFRINGENS (INCLUIDAS LAS ESPORAS)  COLIFORMES TOTALES (NMP)  COLOR (Pt/Co)  CONDUCTIVIDAD (20ºC)  ENTEROCOCOS INTESTINALES (NMP)  ESCHERICHIA COLI (NMP)  NITRITOS  PH (20ºC)  RECUENTO DE BACTERIAS HETEROTROFAS A 22ºC  TEMPERATURA  TURBIDEZ\n",
      "0  2025-01-03       0.0     0.0                  0.51                                              0.0                       0.0            0.0                 177.0                             0.0                     0.0      0.00        8.1                                        1.0         10.6      0.00\n",
      "1  2024-12-27       0.0     0.0                  0.48                                              0.0                       0.0            0.0                 186.0                             0.0                     0.0      0.00        8.1                                        0.0         10.6      0.00\n",
      "2  2024-12-17       0.0     0.0                  0.53                                              0.0                       0.0            0.0                 195.0                             0.0                     0.0      0.00        8.1                                        0.0         11.2      0.00\n",
      "3  2024-12-13       0.0     0.0                  0.49                                              0.0                       0.0            0.0                 198.0                             0.0                     0.0      0.00        8.1                                        0.0         11.0      0.00\n",
      "4  2024-11-05       0.0     0.0                  0.42                                              0.0                       0.0            0.0                 182.0                             0.0                     0.0      0.00        8.0                                        3.0         14.6      0.00\n",
      "5  2024-10-25       0.0     0.0                  0.51                                              0.0                       0.0            0.0                 172.0                             0.0                     0.0      0.00        8.0                                        1.0         15.0      0.00\n",
      "6  2024-10-01      50.0     0.1                  0.50                                              0.0                       0.0            5.0                 177.0                             0.0                     0.0      0.03        8.1                                        0.0         15.4      0.25\n",
      "7  2024-09-27      50.0     0.1                  0.47                                              0.0                       0.0            5.0                 184.0                             0.0                     0.0      0.03        8.2                                        0.0         15.4      0.25\n",
      "8  2024-09-17      50.0     0.1                  0.45                                              0.0                       0.0            5.0                 190.0                             0.0                     0.0      0.03        8.1                                        0.0         14.8      0.25\n",
      "9  2024-09-13      50.0     0.1                  0.52                                              0.0                       0.0            5.0                 191.0                             0.0                     0.0      0.03        8.1                                        0.0         15.6      0.25\n"
     ]
    }
   ],
   "source": [
    "print(datos_calidad_)"
   ]
  },
  {
   "cell_type": "markdown",
   "metadata": {},
   "source": [
    "# respuesta llm"
   ]
  },
  {
   "cell_type": "code",
   "execution_count": 59,
   "metadata": {},
   "outputs": [
    {
     "name": "stdout",
     "output_type": "stream",
     "text": [
      "\n",
      "==================================================\n",
      "🔍 PROMPT GENERADO:\n",
      "  \n",
      "\n",
      "Rol:\n",
      "Eres un asistente experto en el análisis de métricas de calidad del agua potable.\n",
      "\n",
      "Contexto:\n",
      "Se te ha proporcionado un historial de 10 muestras tomadas en diferentes fechas en un mismo punto de agua potable:\n",
      "\n",
      "Datos de calidad del agua:\n",
      "         date  ALUMINIO  AMONIO  CLORO LIBRE RESIDUAL  CLOSTRIDIUM PERFRINGENS (INCLUIDAS LAS ESPORAS)  COLIFORMES TOTALES (NMP)  COLOR (Pt/Co)  CONDUCTIVIDAD (20ºC)  ENTEROCOCOS INTESTINALES (NMP)  ESCHERICHIA COLI (NMP)  NITRITOS  PH (20ºC)  RECUENTO DE BACTERIAS HETEROTROFAS A 22ºC  TEMPERATURA  TURBIDEZ\n",
      "0  2025-01-03       0.0     0.0                  0.51                                              0.0                       0.0            0.0                 177.0                             0.0                     0.0      0.00        8.1                                        1.0         10.6      0.00\n",
      "1  2024-12-27       0.0     0.0                  0.48                                              0.0                       0.0            0.0                 186.0                             0.0                     0.0      0.00        8.1                                        0.0         10.6      0.00\n",
      "2  2024-12-17       0.0     0.0                  0.53                                              0.0                       0.0            0.0                 195.0                             0.0                     0.0      0.00        8.1                                        0.0         11.2      0.00\n",
      "3  2024-12-13       0.0     0.0                  0.49                                              0.0                       0.0            0.0                 198.0                             0.0                     0.0      0.00        8.1                                        0.0         11.0      0.00\n",
      "4  2024-11-05       0.0     0.0                  0.42                                              0.0                       0.0            0.0                 182.0                             0.0                     0.0      0.00        8.0                                        3.0         14.6      0.00\n",
      "5  2024-10-25       0.0     0.0                  0.51                                              0.0                       0.0            0.0                 172.0                             0.0                     0.0      0.00        8.0                                        1.0         15.0      0.00\n",
      "6  2024-10-01      50.0     0.1                  0.50                                              0.0                       0.0            5.0                 177.0                             0.0                     0.0      0.03        8.1                                        0.0         15.4      0.25\n",
      "7  2024-09-27      50.0     0.1                  0.47                                              0.0                       0.0            5.0                 184.0                             0.0                     0.0      0.03        8.2                                        0.0         15.4      0.25\n",
      "8  2024-09-17      50.0     0.1                  0.45                                              0.0                       0.0            5.0                 190.0                             0.0                     0.0      0.03        8.1                                        0.0         14.8      0.25\n",
      "9  2024-09-13      50.0     0.1                  0.52                                              0.0                       0.0            5.0                 191.0                             0.0                     0.0      0.03        8.1                                        0.0         15.6      0.25  \n",
      "\n",
      "Tarea:\n",
      "\n",
      "Analiza las tendencias generales de los parámetros a lo largo del tiempo.\n",
      "\n",
      "Evalúa la muestra más reciente y determina si presenta una desviación significativa respecto a la tendencia previa.\n",
      "\n",
      "Identifica posibles riesgos para la calidad del agua, indicando qué parámetros están fuera de los valores normales.\n",
      "\n",
      "Si la calidad ha mejorado o empeorado, explica las posibles causas y sus implicaciones.\n",
      "\n",
      "Salida esperada:\n",
      "Resumen de evaluación (≈1000 tokens):\n",
      "\n",
      "Estado actual de la calidad del agua en la última medición.\n",
      "\n",
      "Comparación con tendencias anteriores y valores de referencia.\n",
      "\n",
      "Identificación de parámetros críticos con explicaciones.\n",
      "\n",
      "Conclusión sobre la estabilidad de la calidad del agua.\n",
      "\n",
      "==================================================\n",
      "\n"
     ]
    }
   ],
   "source": [
    "respuesta=ask_llm(llm, datos_calidad_)"
   ]
  },
  {
   "cell_type": "code",
   "execution_count": 60,
   "metadata": {},
   "outputs": [
    {
     "name": "stdout",
     "output_type": "stream",
     "text": [
      "\n",
      "Análisis de tendencias:\n",
      "\n",
      "La serie temporal de las muestras muestra una variabilidad en los parámetros de calidad del agua. El aluminio, el amonio, los nitratos, el recuento de bacterias heterotrofas a 22ºC, el pH y la temperatura se mantienen relativamente estables, con valores cercanos a cero o dentro de los rangos normales. Sin embargo, el cloro libre residual, la conductividad, el recuento de enterococos intestinales, el escherichia coli, la turbididad y el recuento total de coliformes se han visto afectados por fluctuaciones.\n",
      "\n",
      "Evaluación de la última muestra:\n",
      "\n",
      "La última muestra, tomada el 2025-01-03, presenta valores de cloro libre residual de 0.51 mg/L, conductividad de 177 µS/cm, recuento de enterococos intestinales de 0.0 NMP, escherichia coli de 0.0 NMP, turbididad de 1.0 NTU y recuento total de coliformes de 0.0 NMP. Estos valores están dentro de los rangos normales y no muestran una desviación significativa respecto a las tendencias anteriores.\n",
      "\n",
      "Riesgos para la calidad del agua:\n",
      "\n",
      "No se identifican riesgos significativos en la última muestra. Todos los parámetros están dentro de los rangos normales.\n",
      "\n",
      "Causas y implicaciones:\n",
      "\n",
      "La estabilidad de los parámetros en la última muestra puede deberse a varios factores, como la implementación de medidas de control de calidad, la mejora de las instalaciones de tratamiento de agua o la reducción de la contaminación externa. La ausencia de desviaciones significativas sugiere que la calidad del agua se ha mantenido estable o ha mejorado.\n",
      "\n",
      "Conclusión:\n",
      "\n",
      "La calidad del agua en la última muestra se mantiene estable y no presenta riesgos significativos. Los parámetros críticos, como el cloro libre residual, la conductividad, el recuento de enterococos intestinales, el escherichia coli, la turbididad y el recuento total de coliformes, se encuentran dentro de los rangos normales. La estabilidad de estos parámetros indica una buena gestión del sistema de agua potable y una baja probabilidad de contaminación.\n",
      "\n",
      "Es importante continuar monitoreando la calidad del agua para detectar posibles cambios y asegurar la continuidad de la estabilidad.\n"
     ]
    }
   ],
   "source": [
    "print(respuesta)"
   ]
  },
  {
   "cell_type": "code",
   "execution_count": null,
   "metadata": {},
   "outputs": [],
   "source": []
  },
  {
   "cell_type": "code",
   "execution_count": 48,
   "metadata": {},
   "outputs": [
    {
     "name": "stdout",
     "output_type": "stream",
     "text": [
      "\n",
      "El análisis de los datos proporcionados revela una tendencia general en la calidad del agua en el punto de agua potable en cuestión. A continuación, se presenta un resumen detallado de los hallazgos:\n",
      "\n",
      "1. Aluminio: El valor más reciente (0.0) no presenta aluminio, lo que es consistente con las muestras anteriores.\n",
      "2. Amonio: El valor más reciente (0.0) no presenta amonio, lo que es consistente con las muestras anteriores.\n",
      "3. Cloro libre residual: El valor más reciente (0.51) es ligeramente superior al promedio de las muestras anteriores (0.48), pero aún se mantiene dentro del rango aceptable.\n",
      "4. Clostridium perfringens (incluidas las esporas): El valor más reciente (0.0) no presenta Clostridium perfringens, lo que es consistente con las muestras anteriores.\n",
      "5. Coliformes totales (NMP): El valor más reciente (0.0) no presenta coliformes totales, lo que es consistente con las muestras anteriores.\n",
      "6. Color (Pt/Co): El valor más reciente (0.0) no presenta color, lo que es consistente con las muestras anteriores.\n",
      "7. Conductividad (20ºC): El valor más reciente (177.0) es ligeramente superior al promedio de las muestras anteriores (182.0), pero aún se mantiene dentro del rango aceptable.\n",
      "8. Enterococos intestinales (NMP): El valor más reciente (0.0) no presenta enterococos intestinales, lo que es consistente con las muestras anteriores.\n",
      "9. Escherichia coli (NMP): El valor más reciente (0.0) no presenta Escherichia coli, lo que es consistente con las muestras anteriores.\n",
      "10. Nitratos: El valor más reciente (0.0) no presenta nitratos, lo que es consistente con las muestras anteriores.\n",
      "11. pH (20ºC): El valor más reciente (8.1) es ligeramente superior al promedio de las muestras anteriores (8.0), pero aún se mantiene dentro del rango aceptable.\n",
      "12. Recuento de bacterias heterotrofas a 22ºC: El valor más reciente (0.0) no presenta bacterias heterotrofas, lo que es consistente con las muestras anteriores.\n",
      "13. Temperatura: El valor más reciente (10.6) es ligeramente superior al promedio de las muestras anteriores (11.0), pero aún se mantiene dentro del rango aceptable.\n",
      "14. Turbididad: El valor más reciente (0.0) no presenta turbididad, lo que es consistente con las muestras anteriores.\n",
      "\n",
      "En resumen, el valor más reciente no presenta desviaciones significativas en la mayoría de los parámetros de calidad del agua en comparación con las muestras anteriores. Sin embargo, se observan ligeras variaciones en algunos parámetros, como la conductividad y el pH, que se mantienen dentro de los rangos aceptables. La ausencia de patógenos como Clostridium perfringens, coliformes totales, enterococos intestinales y Escherichia coli en todas las muestras es un indicador positivo de la calidad del agua.\n",
      "\n",
      "En cuanto a la evolución de la calidad del agua, se observa una tendencia general de estabilidad en los parámetros de calidad del agua en el punto de agua potable en cuestión. No se han detectado patógenos en ninguna de las muestras, lo que es un indicador positivo de la calidad del agua. Sin embargo, se observan ligeras variaciones en algunos parámetros, como la conductividad y el pH, que se mantienen dentro de los rangos aceptables.\n",
      "\n",
      "En el estado actual, el punto de agua potable en cuestión se encuentra en un buen estado de calidad, con la ausencia de patógenos y la estabilidad de los parámetros de calidad del agua. Sin embargo, es importante continuar monitoreando la calidad del agua para detectar posibles cambios o desviaciones en los parámetros de calidad del agua.\n",
      "\n",
      "En conclusión, el análisis de los datos proporcionados indica que el punto de agua potable en cuestión se encuentra en un buen estado de calidad, con la ausencia de patógenos y la estabilidad de los parámetros de calidad del agua. Sin embargo, es importante continuar monitoreando la calidad del agua para detectar posibles cambios o desviaciones en los parámetros de calidad del agua.\n"
     ]
    }
   ],
   "source": [
    "print(respuesta)"
   ]
  },
  {
   "cell_type": "code",
   "execution_count": 55,
   "metadata": {},
   "outputs": [
    {
     "name": "stdout",
     "output_type": "stream",
     "text": [
      "\n",
      "El análisis de las muestras de agua potable revela una tendencia general de estabilidad en los parámetros de calidad, con algunas variaciones en los niveles de aluminio, amonio, cloro libre residual, enterococos intestinales, Escherichia coli, nitritos y recuento de bacterias heterotrofas a 22ºC.\n",
      "\n",
      "En cuanto a los niveles de aluminio, se observa un aumento significativo en la muestra del 6 de octubre, con un valor de 50.0 ppm, seguido de una disminución en las muestras posteriores. Sin embargo, el valor más reciente, correspondiente a la muestra del 13 de septiembre, muestra un nivel de aluminio de 50.0 ppm, lo que indica una continuidad en la tendencia observada en las muestras anteriores.\n",
      "\n",
      "Los niveles de amonio y cloro libre residual se mantienen constantes en valores bajos, con variaciones mínimas entre las muestras.\n",
      "\n",
      "En cuanto a los enterococos intestinales y Escherichia coli, se observa un valor de 0.0 NMP en las mayoría de las muestras, con excepción de la del 6 de octubre, donde se registra un valor de 5.0 NMP. El valor más reciente, correspondiente a la muestra del 13 de septiembre, muestra un valor de 0.0 NMP, lo que indica una continuidad en la tendencia observada en las muestras anteriores.\n",
      "\n",
      "Los niveles de nitritos y recuento de bacterias heterotrofas a 22ºC también se mantienen constantes en valores bajos, con variaciones mínimas entre las muestras.\n",
      "\n",
      "En cuanto al pH, se observa una tendencia general de estabilidad, con valores que oscilan entre 8.0 y 8.2. El valor más reciente, correspondiente a la muestra del 13 de septiembre, es de 8.1, lo que indica una continuidad en la tendencia observada en las muestras anteriores.\n",
      "\n",
      "En cuanto a la temperatura, se observa una tendencia general de estabilidad, con valores que oscilan entre 10.6 y 15.6. El valor más reciente, correspondiente a la muestra del 13 de septiembre, es de 15.6, lo que indica una continuidad en la tendencia observada en las muestras anteriores.\n",
      "\n",
      "En cuanto a la turbididad, se observa una tendencia general de estabilidad, con valores que oscilan entre 0.0 y 1.0. El valor más reciente, correspondiente a la muestra del 13 de septiembre, es de 0.0, lo que indica una continuidad en la tendencia observada en las muestras anteriores.\n",
      "\n",
      "En resumen, el análisis de las muestras de agua potable revela una tendencia general de estabilidad en los parámetros de calidad, con algunas variaciones en los niveles de aluminio, amonio, cloro libre residual, enterococos intestinales, Escherichia coli, nitritos y recuento de bacterias heterotrofas a 22ºC. El valor más reciente, correspondiente a la muestra del 13 de septiembre, no presenta una desviación significativa respecto a la tendencia general observada en las muestras anteriores.\n"
     ]
    }
   ],
   "source": [
    "print(respuesta)"
   ]
  }
 ],
 "metadata": {
  "kernelspec": {
   "display_name": "ibm_env_test",
   "language": "python",
   "name": "python3"
  },
  "language_info": {
   "codemirror_mode": {
    "name": "ipython",
    "version": 3
   },
   "file_extension": ".py",
   "mimetype": "text/x-python",
   "name": "python",
   "nbconvert_exporter": "python",
   "pygments_lexer": "ipython3",
   "version": "3.11.10"
  }
 },
 "nbformat": 4,
 "nbformat_minor": 2
}
